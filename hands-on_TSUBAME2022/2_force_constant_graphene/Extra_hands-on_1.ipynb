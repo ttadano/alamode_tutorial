{
 "cells": [
  {
   "cell_type": "markdown",
   "id": "3031bd65",
   "metadata": {},
   "source": [
    "### Notebook for the __extra__ hands on session 1 (using python wrapper)\n",
    "\n",
    "So far, we have performed ALM calculations using the C++ binary.\n",
    "\n",
    "We are also developing a python wrapper to ALM, which can be downloaded from https://github.com/ttadano/ALM.\n",
    "\n",
    "The detailed instruction for installation is available at https://alm.readthedocs.io/en/develop/.\n",
    "\n",
    "Here, we demonstrate how to use ALM python wrapper.\n"
   ]
  },
  {
   "cell_type": "code",
   "execution_count": 4,
   "id": "b94d7221",
   "metadata": {},
   "outputs": [],
   "source": [
    "# import libraries\n",
    "import numpy as np\n",
    "from alm import ALM\n",
    "from pymatgen.core import Structure"
   ]
  },
  {
   "cell_type": "code",
   "execution_count": 102,
   "id": "7f00e826",
   "metadata": {},
   "outputs": [],
   "source": [
    "# define methods for LASSO\n",
    "from sklearn.model_selection import GroupKFold\n",
    "from sklearn.linear_model import lasso_path\n",
    "from sklearn.preprocessing import StandardScaler\n",
    "from sklearn.linear_model import Lasso\n",
    "import math\n",
    "\n",
    "def run_lasso_cv(X, y, force, nat, ndata, nfold=4):\n",
    "\n",
    "    force_ravel = force.reshape(-1)\n",
    "\n",
    "    print(\"force shape: \", np.shape(force_ravel))\n",
    "    print(\"Amat shape : \", np.shape(X))\n",
    "\n",
    "    groups = []\n",
    "    for i in range(ndata):\n",
    "        groups.extend([i] * 3 * nat)\n",
    "\n",
    "    eps = 1.0e-7\n",
    "    gkf = GroupKFold(n_splits=nfold)\n",
    "    n_alphas = 50\n",
    "\n",
    "    rms_train = np.zeros((n_alphas, nfold))\n",
    "    rms_test = np.zeros((n_alphas, nfold))\n",
    "\n",
    "    counter = 0\n",
    "    alphas = np.logspace(-1, -6, num=n_alphas)\n",
    "\n",
    "    standardize = True\n",
    "    sc = StandardScaler()\n",
    "\n",
    "    for train, test in gkf.split(X, y, groups=groups):\n",
    "\n",
    "        force_train = force_ravel[train]\n",
    "        force_test = force_ravel[test]\n",
    "        fnorm_train = np.dot(force_train, force_train)\n",
    "        fnorm_test = np.dot(force_test, force_test)\n",
    "\n",
    "        # Set displacement and force data\n",
    "        X_train = X[train, :]\n",
    "        X_test = X[test, :]\n",
    "        y_train = y[train]\n",
    "        y_test = y[test]\n",
    "\n",
    "        if standardize:\n",
    "            scaler = sc.fit(X_train)\n",
    "            X_train = scaler.transform(X_train)\n",
    "            X_test = scaler.transform(X_test)\n",
    "\n",
    "\n",
    "        alphas_lasso, coefs_lasso, _ = lasso_path(X_train, y_train, eps=eps, \n",
    "                                                  alphas = alphas,\n",
    "                                                  verbose = True,\n",
    "                                                  max_iter = 100000)\n",
    "\n",
    "        y_model_train = np.dot(X_train, coefs_lasso)\n",
    "        y_model_test = np.dot(X_test, coefs_lasso)\n",
    "\n",
    "\n",
    "        for ialpha in range(n_alphas):\n",
    "            y_diff_train = y_model_train[:,ialpha] - y_train\n",
    "            y_diff_test = y_model_test[:,ialpha] - y_test\n",
    "\n",
    "            residual_train = np.dot(y_diff_train, y_diff_train)\n",
    "            residual_test = np.dot(y_diff_test, y_diff_test)\n",
    "\n",
    "            rms_train[ialpha, counter] = math.sqrt(residual_train/fnorm_train)\n",
    "            rms_test[ialpha, counter] = math.sqrt(residual_test/fnorm_test)\n",
    "\n",
    "\n",
    "        counter += 1\n",
    "\n",
    "    rmse_mean = np.mean(rms_train, axis=1)\n",
    "    rmse_std = np.std(rms_train, axis=1, ddof=1)\n",
    "    cv_mean = np.mean(rms_test, axis=1)\n",
    "    cv_std = np.std(rms_test, axis=1, ddof=1)\n",
    "    \n",
    "    return alphas, rmse_mean, rmse_std, cv_mean, cv_std\n",
    "\n",
    "\n",
    "def run_lasso(X, y, alpha_opt, standardize=True):\n",
    "\n",
    "    eps=1.0e-6\n",
    "    clf = Lasso(alpha=alpha_opt, fit_intercept=False, tol=eps, max_iter=10000)\n",
    "\n",
    "    if standardize:\n",
    "        sc = StandardScaler()\n",
    "        scaler = sc.fit(X)\n",
    "        X = scaler.transform(X)\n",
    "        clf.fit(X, y)\n",
    "        fc = np.true_divide(clf.coef_, scaler.scale_)\n",
    "\n",
    "    else:\n",
    "        clf.fit(X, y)\n",
    "        fc = clf.coef_\n",
    "\n",
    "    return fc"
   ]
  },
  {
   "cell_type": "code",
   "execution_count": 16,
   "id": "b2d164cf",
   "metadata": {},
   "outputs": [],
   "source": [
    "# load primitive cell structure\n",
    "structure = Structure.from_file('work/primitive.POSCAR.vasp')\n",
    "\n",
    "# Create supercell\n",
    "scaling_matrix = [[ 5, 0, 0],\n",
    "                  [ 0, 5, 0],\n",
    "                  [ 0, 0, 1]]\n",
    "\n",
    "Structure.make_supercell(structure, scaling_matrix)"
   ]
  },
  {
   "cell_type": "code",
   "execution_count": 17,
   "id": "30802682",
   "metadata": {},
   "outputs": [
    {
     "data": {
      "text/plain": [
       "Structure Summary\n",
       "Lattice\n",
       "    abc : 12.2325 12.232500000000003 15.0\n",
       " angles : 90.0 90.0 119.99999999999999\n",
       " volume : 1943.8034097571458\n",
       "      A : 12.2325 0.0 0.0\n",
       "      B : -6.11625 10.59365575179315 0.0\n",
       "      C : 0.0 0.0 15.0\n",
       "PeriodicSite: C (1.2233, 0.7062, 0.0000) [0.1333, 0.0667, 0.0000]\n",
       "PeriodicSite: C (0.0000, 2.8250, 0.0000) [0.1333, 0.2667, 0.0000]\n",
       "PeriodicSite: C (-1.2232, 4.9437, 0.0000) [0.1333, 0.4667, 0.0000]\n",
       "PeriodicSite: C (-2.4465, 7.0624, 0.0000) [0.1333, 0.6667, 0.0000]\n",
       "PeriodicSite: C (-3.6697, 9.1812, 0.0000) [0.1333, 0.8667, 0.0000]\n",
       "PeriodicSite: C (3.6698, 0.7062, 0.0000) [0.3333, 0.0667, 0.0000]\n",
       "PeriodicSite: C (2.4465, 2.8250, 0.0000) [0.3333, 0.2667, 0.0000]\n",
       "PeriodicSite: C (1.2233, 4.9437, 0.0000) [0.3333, 0.4667, 0.0000]\n",
       "PeriodicSite: C (0.0000, 7.0624, 0.0000) [0.3333, 0.6667, 0.0000]\n",
       "PeriodicSite: C (-1.2232, 9.1812, 0.0000) [0.3333, 0.8667, 0.0000]\n",
       "PeriodicSite: C (6.1163, 0.7062, 0.0000) [0.5333, 0.0667, 0.0000]\n",
       "PeriodicSite: C (4.8930, 2.8250, 0.0000) [0.5333, 0.2667, 0.0000]\n",
       "PeriodicSite: C (3.6698, 4.9437, 0.0000) [0.5333, 0.4667, 0.0000]\n",
       "PeriodicSite: C (2.4465, 7.0624, 0.0000) [0.5333, 0.6667, 0.0000]\n",
       "PeriodicSite: C (1.2233, 9.1812, 0.0000) [0.5333, 0.8667, 0.0000]\n",
       "PeriodicSite: C (8.5628, 0.7062, 0.0000) [0.7333, 0.0667, 0.0000]\n",
       "PeriodicSite: C (7.3395, 2.8250, 0.0000) [0.7333, 0.2667, 0.0000]\n",
       "PeriodicSite: C (6.1163, 4.9437, 0.0000) [0.7333, 0.4667, 0.0000]\n",
       "PeriodicSite: C (4.8930, 7.0624, 0.0000) [0.7333, 0.6667, 0.0000]\n",
       "PeriodicSite: C (3.6698, 9.1812, 0.0000) [0.7333, 0.8667, 0.0000]\n",
       "PeriodicSite: C (11.0093, 0.7062, 0.0000) [0.9333, 0.0667, 0.0000]\n",
       "PeriodicSite: C (9.7860, 2.8250, 0.0000) [0.9333, 0.2667, 0.0000]\n",
       "PeriodicSite: C (8.5628, 4.9437, 0.0000) [0.9333, 0.4667, 0.0000]\n",
       "PeriodicSite: C (7.3395, 7.0624, 0.0000) [0.9333, 0.6667, 0.0000]\n",
       "PeriodicSite: C (6.1163, 9.1812, 0.0000) [0.9333, 0.8667, 0.0000]\n",
       "PeriodicSite: C (-0.0000, 1.4125, 0.0000) [0.0667, 0.1333, 0.0000]\n",
       "PeriodicSite: C (-1.2233, 3.5312, 0.0000) [0.0667, 0.3333, 0.0000]\n",
       "PeriodicSite: C (-2.4465, 5.6499, 0.0000) [0.0667, 0.5333, 0.0000]\n",
       "PeriodicSite: C (-3.6698, 7.7687, 0.0000) [0.0667, 0.7333, 0.0000]\n",
       "PeriodicSite: C (-4.8930, 9.8874, 0.0000) [0.0667, 0.9333, 0.0000]\n",
       "PeriodicSite: C (2.4465, 1.4125, 0.0000) [0.2667, 0.1333, 0.0000]\n",
       "PeriodicSite: C (1.2232, 3.5312, 0.0000) [0.2667, 0.3333, 0.0000]\n",
       "PeriodicSite: C (-0.0000, 5.6499, 0.0000) [0.2667, 0.5333, 0.0000]\n",
       "PeriodicSite: C (-1.2233, 7.7687, 0.0000) [0.2667, 0.7333, 0.0000]\n",
       "PeriodicSite: C (-2.4465, 9.8874, 0.0000) [0.2667, 0.9333, 0.0000]\n",
       "PeriodicSite: C (4.8930, 1.4125, 0.0000) [0.4667, 0.1333, 0.0000]\n",
       "PeriodicSite: C (3.6697, 3.5312, 0.0000) [0.4667, 0.3333, 0.0000]\n",
       "PeriodicSite: C (2.4465, 5.6499, 0.0000) [0.4667, 0.5333, 0.0000]\n",
       "PeriodicSite: C (1.2232, 7.7687, 0.0000) [0.4667, 0.7333, 0.0000]\n",
       "PeriodicSite: C (-0.0000, 9.8874, 0.0000) [0.4667, 0.9333, 0.0000]\n",
       "PeriodicSite: C (7.3395, 1.4125, 0.0000) [0.6667, 0.1333, 0.0000]\n",
       "PeriodicSite: C (6.1162, 3.5312, 0.0000) [0.6667, 0.3333, 0.0000]\n",
       "PeriodicSite: C (4.8930, 5.6499, 0.0000) [0.6667, 0.5333, 0.0000]\n",
       "PeriodicSite: C (3.6697, 7.7687, 0.0000) [0.6667, 0.7333, 0.0000]\n",
       "PeriodicSite: C (2.4465, 9.8874, 0.0000) [0.6667, 0.9333, 0.0000]\n",
       "PeriodicSite: C (9.7860, 1.4125, 0.0000) [0.8667, 0.1333, 0.0000]\n",
       "PeriodicSite: C (8.5627, 3.5312, 0.0000) [0.8667, 0.3333, 0.0000]\n",
       "PeriodicSite: C (7.3395, 5.6499, 0.0000) [0.8667, 0.5333, 0.0000]\n",
       "PeriodicSite: C (6.1162, 7.7687, 0.0000) [0.8667, 0.7333, 0.0000]\n",
       "PeriodicSite: C (4.8930, 9.8874, 0.0000) [0.8667, 0.9333, 0.0000]"
      ]
     },
     "execution_count": 17,
     "metadata": {},
     "output_type": "execute_result"
    }
   ],
   "source": [
    "structure"
   ]
  },
  {
   "cell_type": "code",
   "execution_count": 45,
   "id": "71d34400",
   "metadata": {},
   "outputs": [],
   "source": [
    "# structure information \n",
    "lavec = structure.lattice.matrix * 1.88972612545782819321\n",
    "positions = structure.frac_coords\n",
    "kinds = structure.atomic_numbers\n",
    "nat = structure.num_sites"
   ]
  },
  {
   "cell_type": "code",
   "execution_count": 79,
   "id": "d2c7c4d5",
   "metadata": {},
   "outputs": [],
   "source": [
    "# Load training dataset\n",
    "\n",
    "dfset_harmonic = np.loadtxt('work/DFSET_harmonic')\n",
    "dfset_random = np.loadtxt('work/DFSET_random')\n",
    "\n",
    "disp_harmonic = dfset_harmonic[:, :3].reshape((-1, nat, 3))\n",
    "force_harmonic = dfset_harmonic[:, 3:].reshape((-1, nat, 3))\n",
    "\n",
    "disp_random = dfset_random[:, :3].reshape((-1, nat, 3))\n",
    "force_random = dfset_random[:, 3:].reshape((-1, nat, 3))"
   ]
  },
  {
   "cell_type": "code",
   "execution_count": 88,
   "id": "f16a01dc",
   "metadata": {},
   "outputs": [],
   "source": [
    "# Fit harmonic force constants and save information as fc2_values and elem2_indices\n",
    "\n",
    "maxorder = 1\n",
    "\n",
    "cutoff = [-1] # None corresponds to -1\n",
    "\n",
    "with ALM(lavec, positions, kinds) as alm:\n",
    "    alm.set_verbosity(0) # set to 0 to suppress outputs\n",
    "    alm.define(maxorder, cutoff, symmetrization_basis=\"Cartesian\")\n",
    "    alm.set_constraint(translation=True)\n",
    "    alm.displacements = disp_harmonic\n",
    "    alm.forces = force_harmonic\n",
    "    info = alm.optimize()\n",
    "    fc2_values, elem2_indices = alm.get_fc(1)\n",
    "    alm.save_fc('graphene_harmonic_python.xml', format='alamode')\n"
   ]
  },
  {
   "cell_type": "code",
   "execution_count": 106,
   "id": "05475bc0",
   "metadata": {},
   "outputs": [
    {
     "name": "stdout",
     "output_type": "stream",
     "text": [
      "force shape:  (3000,)\n",
      "Amat shape :  (3000, 529)\n"
     ]
    },
    {
     "name": "stderr",
     "output_type": "stream",
     "text": [
      "........................................................................................................................................................................................................"
     ]
    }
   ],
   "source": [
    "# Create sensing matrix A and vector b for performing LASSO estimate\n",
    "\n",
    "# Anharmonic model up to the 4th-order\n",
    "maxorder = 3\n",
    "cutoff = [-1, 8.1, 8.1] # None corresponds to -1\n",
    "nbody = [2, 3, 3]\n",
    "with ALM(lavec, positions, kinds) as alm:\n",
    "    alm.set_verbosity(0) # set to 0 to suppress outputs\n",
    "    alm.define(maxorder, cutoff, nbody, symmetrization_basis=\"Cartesian\")\n",
    "    alm.set_constraint(translation=True)\n",
    "    alm.displacements = disp_random\n",
    "    alm.forces = force_random\n",
    "\n",
    "    # Fix harmonic force constants upon optimization\n",
    "    alm.freeze_fc(fc2_values, elem2_indices) # works same as FC2XML\n",
    "    \n",
    "    # Get sensing matrix \n",
    "    X, y = alm.get_matrix_elements()\n",
    "\n",
    "    # Run CV\n",
    "    alphas, rmse_mean, rmse_std, cv_mean, cv_std \\\n",
    "    = run_lasso_cv(X, y, force_random, nat=50, ndata=20, nfold=4)\n",
    "    \n",
    "    # optimize with optimal alpha\n",
    "    fc = run_lasso(X, y, alpha_opt=alphas[np.argmin(cv_mean)])\n",
    "    \n",
    "    # Set force constant values to the alm object\n",
    "    alm.set_fc(fc)\n",
    "    \n",
    "    # Save force constants in XML files\n",
    "    alm.save_fc('graphene_anharmonic_python.xml', format='alamode')\n"
   ]
  },
  {
   "cell_type": "code",
   "execution_count": 98,
   "id": "02aa5d4c",
   "metadata": {},
   "outputs": [
    {
     "data": {
      "image/png": "[encoded data removed]",
      "text/plain": [
       "<Figure size 432x288 with 1 Axes>"
      ]
     },
     "metadata": {
      "needs_background": "light"
     },
     "output_type": "display_data"
    }
   ],
   "source": [
    "%matplotlib inline\n",
    "\n",
    "import matplotlib.pyplot as plt\n",
    "\n",
    "ax = plt.subplot(111)\n",
    "ax.plot(alphas, rmse_mean, linestyle='--', marker='o', ms=5)\n",
    "ax.plot(alphas, cv_mean, linestyle='--', marker='o', ms=5)\n",
    "ax.set_ylim(0, 0.02)\n",
    "ax.set_xlim(1.0e-7, 1.0e-4)\n",
    "ax.set_xscale('log')\n",
    "plt.show()"
   ]
  }
 ],
 "metadata": {
  "kernelspec": {
   "display_name": "Python 3 (ipykernel)",
   "language": "python",
   "name": "python3"
  },
  "language_info": {
   "codemirror_mode": {
    "name": "ipython",
    "version": 3
   },
   "file_extension": ".py",
   "mimetype": "text/x-python",
   "name": "python",
   "nbconvert_exporter": "python",
   "pygments_lexer": "ipython3",
   "version": "3.9.12"
  }
 },
 "nbformat": 4,
 "nbformat_minor": 5
}
